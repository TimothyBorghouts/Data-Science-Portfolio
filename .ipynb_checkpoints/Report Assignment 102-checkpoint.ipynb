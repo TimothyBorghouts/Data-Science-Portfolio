{
 "cells": [
  {
   "cell_type": "markdown",
   "id": "f5d7bcfb",
   "metadata": {},
   "source": [
    "# 'What is a Data Scientist?'\n",
    "\n",
    "#### 30 min: Look back at all the portfolio assignments you have done. Create a short report in which you use the portfolio assignments as examples to explain the tasks and process of a Data Scientist"
   ]
  },
  {
   "cell_type": "markdown",
   "id": "d4d62475",
   "metadata": {},
   "source": [
    "#### Wat heb ik gedaan?\n",
    "Als ik terug kijk naar wat ik precies heb gedaan in de afgelopen weken heb ik vooral veel overzichtelijke rapporten om data duidelijk te maken en er statistieke uit te halen die interessant of belangrijk zijn.\n",
    "\n",
    "Tijdens het portfolio heb ik gebruik gemaakt van twee verschillende data sets. Terwijl dat ik door de portfolio opdrachten ben gelopen heb ik gezien dat er veel verschillende manieren zijn om data om te zetten naar overzichtelijke en handige grafieken of gegevens.\n",
    "\n",
    "#### Wat doet een data scientist?\n",
    "##### \"Een Data Scientist beantwoordt, middels data, digitale vraagstukken en is verantwoordelijk voor het creëren en ontwikkelen van algoritmen. De digitale vraagstukken hebben betrekking op data waarvan de omvang erg groot en complex is. Dit wordt ook wel ‘big data’ genoemd. Omdat big data een trend is geworden in vele branches, neemt de vraag naar dit type datawetenschapper enorm toe. \"\n",
    "(https://joingoodcompany.nl/functie/data-scientist/#:~:text=Data%20Scientists%20zorgen%20voor%20waardevolle,te%20structureren%20en%20te%20analyseren.)\n",
    "\n",
    "Een data scientist beantwoord dus vragen van bijvoorbeeld een bedrijf door data te analyseren met algoritmen en die algoritmen wil de data scientist zo goed en slim mogelijk maken.\n",
    "\n",
    "#### Wat gebruikt een Data Scientist?\n",
    "In de opdrachten die ik heb gemaakt heb ik grafieken gemaakt zoals barplots, histogrammen en nog meer. Daarom denk ik dat een data scientist grafieken gebruikt voor het analyzeren van data.\n",
    "\n",
    "Bij veel opdrachten hebben we ook berekeningen gebruikt om zo bijvoorbeeld de mediaan, gemiddelde en nog meer te berekenen. Een data scientist maakt dus ook gebruik van berekeningen.\n",
    "\n",
    "Ook hebben we bij verschillende opdrachten gebruikt gemaakt van algoritmen om zo data of verder te gebruiken in grafieken of met de algoritmen ze te plaatsen in beslisbomen.\n",
    "\n",
    "Mijn conclusie komt dan ook veel overeen met wat ik heb geschreven bij Assignment 101 maar dat vind ik ook eigenlijk helemaal niet raar. Ik denk namelijk dat wat een Data Scientist is ook heel veel overeenkomt met wat data sciense is. Want die persoon voert dat werk uit.\n",
    "\n",
    "\n",
    "#### Conclusie\n",
    "Een data scientist zorgt voor het inzichtelijk maken van data door gebruik te maken van visuele elementen. Een data Scientist gebruikt tabellen, grafieken, berekeningen en algoritme om zo duidelijkheid te krijgen uit data."
   ]
  },
  {
   "cell_type": "code",
   "execution_count": null,
   "id": "0a9154b9",
   "metadata": {},
   "outputs": [],
   "source": []
  }
 ],
 "metadata": {
  "kernelspec": {
   "display_name": "Python 3 (ipykernel)",
   "language": "python",
   "name": "python3"
  },
  "language_info": {
   "codemirror_mode": {
    "name": "ipython",
    "version": 3
   },
   "file_extension": ".py",
   "mimetype": "text/x-python",
   "name": "python",
   "nbconvert_exporter": "python",
   "pygments_lexer": "ipython3",
   "version": "3.9.13"
  }
 },
 "nbformat": 4,
 "nbformat_minor": 5
}
