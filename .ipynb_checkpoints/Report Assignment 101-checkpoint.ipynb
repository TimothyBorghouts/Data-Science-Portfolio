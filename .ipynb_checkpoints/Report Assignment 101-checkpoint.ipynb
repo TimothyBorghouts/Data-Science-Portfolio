{
 "cells": [
  {
   "cell_type": "markdown",
   "id": "3c086d8e",
   "metadata": {},
   "source": [
    "# ‘What is Data Science?’\n",
    "\n",
    "#### – 10 min: Look at your result for portfolio assignment 1 ‘What is Data Science?’. Is there anything you would like to change? If so then create a second version and add it to your portfolio.\n",
    "\n",
    "Opdracht 1 was een gedeeld bestand maar daar ben ik de toegang tot verloren waardoor ik hem niet meer kan aanpassen. Wel staat assignment 1 in het portfolio als pfd maar het pdf is dus niet aanpasbaar. Ik Assignment 1 staat dat datasience het raakvlaak is tussen statistiek, informatica en domeinkennis. Ook staat het volgende in assignment 1:\n",
    "\n",
    "\"De wiskunde en statistiek zijn benodigd om te\n",
    "weten hoe modellen toegepast kunnen worden\n",
    "om waardevolle inzichten te delven uit de data,\n",
    "en de domeinkennis is cruciaal voor de vertaling\n",
    "van de inzichten naar de organisatie.\"\n",
    "\n",
    "Ik denk dat dat nogsteeds wel klopt alleen de dingen over domeinkennis en de modellen waar een stuk minder belangrijk. Het ging veel meer over het inzichtelijk maken van data door gebruik van grafieken, formules en algoritmes.\n",
    "\n",
    "#### – 30 min: Look back at all the portfolio assignments you have done. Create a short report in which you: Use the portfolio assignments as examples to explain what Data Science is."
   ]
  },
  {
   "cell_type": "markdown",
   "id": "cf3bf53c",
   "metadata": {},
   "source": [
    "Als ik terug kijk naar wat ik in het portfolio heb gemaakt en heb geanalyseerd dan zou ik data science als het volgende omschrijven:\n",
    "\n",
    "Data Science is het inzichtelijk maken van een hoop gegevens in tabel vorm en daar door middel van verschillende tools, grafieken, algoritme of andere hulp.\n",
    "\n",
    "In opdracht 4 tot 8 gebruikte je veel grafieken en tien in 8 tot 14 veel algoritme en in 15 tot 19 heb ik veel tools en berekeningen gebruikt. Zo zijn we denk ik door alles gelopen wat data science eigenlijk is.\n",
    "\n",
    "Data scientist is het inzichtelijk maken van hoeveelheden data door gebruik te maken van visuele elementen. Een data Scientist gebruikt tabellen, grafieken, berekeningen en algoritme om zo duidelijkheid te krijgen uit data. Hierdoor kunnen vraagstukken worden beantwoord."
   ]
  }
 ],
 "metadata": {
  "kernelspec": {
   "display_name": "Python 3 (ipykernel)",
   "language": "python",
   "name": "python3"
  },
  "language_info": {
   "codemirror_mode": {
    "name": "ipython",
    "version": 3
   },
   "file_extension": ".py",
   "mimetype": "text/x-python",
   "name": "python",
   "nbconvert_exporter": "python",
   "pygments_lexer": "ipython3",
   "version": "3.9.13"
  }
 },
 "nbformat": 4,
 "nbformat_minor": 5
}
